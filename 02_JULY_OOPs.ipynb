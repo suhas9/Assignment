{
  "nbformat": 4,
  "nbformat_minor": 0,
  "metadata": {
    "colab": {
      "provenance": []
    },
    "kernelspec": {
      "name": "python3",
      "display_name": "Python 3"
    },
    "language_info": {
      "name": "python"
    }
  },
  "cells": [
    {
      "cell_type": "markdown",
      "source": [
        "Explain what inheritance is in object-oriented programming and why it is used."
      ],
      "metadata": {
        "id": "Y_KkR4kD9TC1"
      }
    },
    {
      "cell_type": "markdown",
      "source": [
        "Inheritance in object-oriented programming (OOP) is a fundamental concept that allows a new class (called a subclass or child class) to inherit properties and behaviors (methods) from an existing class (called a superclass or parent class). This promotes code reusability and can create a hierarchical relationship between classes.\n",
        "\n",
        "Key Points about Inheritance:\n",
        "Reuse of Code: The child class can use the attributes and methods of the parent class without having to rewrite the same code. This reduces redundancy.\n",
        "\n",
        "Extensibility: A subclass can extend or modify the behavior of the parent class. It can add new attributes and methods or override existing ones to suit its needs.\n",
        "\n",
        "Hierarchical Relationships: Inheritance represents a \"is-a\" relationship. For example, if you have a Dog class and a Animal class, you can say that a dog is an animal. The Dog class would inherit from the Animal class."
      ],
      "metadata": {
        "id": "IcSk0VHS9Ufi"
      }
    },
    {
      "cell_type": "markdown",
      "source": [
        "Discuss the concept of single inheritance and multiple inheritance, highlighting their\n",
        "differences and advantages."
      ],
      "metadata": {
        "id": "P3and63t-XwM"
      }
    },
    {
      "cell_type": "markdown",
      "source": [
        "Single Inheritance\n",
        "In single inheritance, a class (child class) can inherit from only one parent class (superclass). This means that the child class has access to the attributes and methods of just one parent class.\n",
        "\n",
        "Multiple Inheritance\n",
        "In multiple inheritance, a class can inherit from more than one parent class. This means that a child class can combine the attributes and behaviors of multiple parent classes.\n",
        "\n",
        "difference between single inheritance and multiple inheritance :\n",
        "\n",
        "Single Inheritance:\n",
        "Number of Parent Classes: A child class can inherit from only one parent class.\n",
        "Simplicity: It is simpler and easier to implement because there’s only one parent class to deal with.\n",
        "Ambiguity: There is no ambiguity since the child class inherits from just one parent, making method resolution straightforward.\n",
        "Code Structure: The code structure is clearer and more linear, with a direct hierarchical relationship between the parent and child.\n",
        "\n",
        "Multiple Inheritance:\n",
        "Number of Parent Classes: A child class can inherit from multiple parent classes.\n",
        "Complexity: It is more complex because the child class has to deal with multiple parent classes and potentially conflicting methods or attributes.\n",
        "Ambiguity: Ambiguity can arise if two parent classes have the same method or attribute, leading to method resolution challenges.\n",
        "\n",
        "Advantages of Single Inheritance:\n",
        "Simplicity: It is easier to understand and manage because there is only one parent class.\n",
        "Less Ambiguity: Since there is only one source of behavior, there is no conflict or ambiguity between inherited methods or attributes.\n",
        "Fewer Bugs: It is less likely to introduce bugs or unexpected behavior because there is no need to resolve conflicts between parent classes.\n",
        "Advantages of Multiple Inheritance\n",
        "Code Reusability: It allows a class to inherit from multiple classes, which promotes greater code reuse and flexibility.\n",
        "Combining Behaviors: A class can combine behaviors from several parent classes. This can be useful when different classes provide complementary functionalities.\n",
        "Avoiding Duplication: Instead of rewriting common functionality, multiple inheritance allows a class to access the methods from multiple parent classes."
      ],
      "metadata": {
        "id": "7VN1HO5d-X5C"
      }
    },
    {
      "cell_type": "markdown",
      "source": [
        "Explain the terms \"base class\" and \"derived class\" in the context of inheritance."
      ],
      "metadata": {
        "id": "n6P7UExO-X9Y"
      }
    },
    {
      "cell_type": "markdown",
      "source": [
        "Base Class (Parent Class or Superclass)\n",
        "The base class is the class that provides properties (attributes) and methods (functions) that can be inherited by other classes.\n",
        "It is also referred to as the parent class or superclass.\n",
        "The base class serves as a foundation or blueprint for other classes to build upon.\n",
        "A base class typically contains general functionality or common features that are shared by all the derived classes.\n",
        "\n",
        "Derived Class (Child Class or Subclass)\n",
        "The derived class is the class that inherits properties and methods from another class (the base class).\n",
        "It is also referred to as the child class or subclass.\n",
        "The derived class can add new attributes or methods, or it can override methods from the base class to provide specific behavior.\n",
        "A derived class inherits the functionality of the base class and can modify or extend it to fit its own needs."
      ],
      "metadata": {
        "id": "u9bK5TxN_ARW"
      }
    },
    {
      "cell_type": "markdown",
      "source": [
        "4. What is the significance of the \"protected\" access modifier in inheritance? How does\n",
        "it differ from \"private\" and \"public\" modifiers?"
      ],
      "metadata": {
        "id": "Fu-tXH38_AUW"
      }
    },
    {
      "cell_type": "markdown",
      "source": [
        "In object-oriented programming (OOP), access modifiers are used to define the visibility and accessibility of class members (attributes and methods). The \"protected\", \"private\", and \"public\" access modifiers are the most common, and they control how and where the members of a class can be accessed, both within the class and from derived classes.\n",
        "\n",
        "1. Protected Access Modifier\n",
        "The \"protected\" modifier means that the class members (variables or methods) are accessible within the class itself and by derived (child) classes, but not by external code.\n",
        "\n",
        "2. Private Access Modifier\n",
        "The \"private\" modifier means that the class members are accessible only within the class itself. These members are not accessible from derived classes or external code. Private members are intended to be completely hidden from any outside access.\n",
        "\n",
        "3. Public Access Modifier\n",
        "The \"public\" modifier means that the class members are accessible from anywhere: inside the class, from derived classes, and from external code. Public members are the default visibility for most languages and allow the most freedom in terms of access"
      ],
      "metadata": {
        "id": "UYYIZ-VD_AXN"
      }
    },
    {
      "cell_type": "markdown",
      "source": [
        "What is the purpose of the \"super\" keyword in inheritance? Provide an example."
      ],
      "metadata": {
        "id": "RVEvHl1__Ir9"
      }
    },
    {
      "cell_type": "markdown",
      "source": [
        "The super keyword in object-oriented programming is used to call methods or access attributes from a parent class (also known as a superclass) in a derived class (or subclass). It allows the derived class to invoke the parent class's methods or access its properties, which is especially useful when you need to extend or override the behavior of inherited methods."
      ],
      "metadata": {
        "id": "jnQnpqe-_Iv7"
      }
    },
    {
      "cell_type": "code",
      "source": [
        "# Base class (parent class)\n",
        "class Animal:\n",
        "    def __init__(self, name):\n",
        "        self.name = name  # Attribute of Animal class\n",
        "\n",
        "    def speak(self):\n",
        "        print(f\"{self.name} makes a sound\")\n",
        "\n",
        "# Derived class (child class)\n",
        "class Dog(Animal):\n",
        "    def __init__(self, name, breed):\n",
        "        # Calling the parent class constructor\n",
        "        super().__init__(name)  # Calls Animal's __init__ method\n",
        "        self.breed = breed  # Additional attribute for Dog\n",
        "\n",
        "    def speak(self):\n",
        "        # Calling the parent class speak method\n",
        "        super().speak()  # Calls Animal's speak method\n",
        "        print(f\"{self.name} barks\")\n",
        "\n",
        "# Create a Dog object\n",
        "dog = Dog(\"Buddy\", \"Golden Retriever\")\n",
        "dog.speak()  # This will call both Animal's and Dog's speak methods\n"
      ],
      "metadata": {
        "colab": {
          "base_uri": "https://localhost:8080/"
        },
        "id": "rjRDCA_W_dKz",
        "outputId": "2cdd40d1-5b70-478d-e55c-638930d6e839"
      },
      "execution_count": 1,
      "outputs": [
        {
          "output_type": "stream",
          "name": "stdout",
          "text": [
            "Buddy makes a sound\n",
            "Buddy barks\n"
          ]
        }
      ]
    },
    {
      "cell_type": "markdown",
      "source": [
        "6. Create a base class called \"Vehicle\" with attributes like \"make\", \"model\", and \"year\".\n",
        "Then, create a derived class called \"Car\" that inherits from \"Vehicle\" and adds an\n",
        "attribute called \"fuel_type\". Implement appropriate methods in both classes."
      ],
      "metadata": {
        "id": "6MSSjhsz_IzP"
      }
    },
    {
      "cell_type": "code",
      "source": [
        "# Base class: Vehicle\n",
        "class Vehicle:\n",
        "    def __init__(self, make, model, year):\n",
        "        self.make = make        # Brand of the vehicle\n",
        "        self.model = model      # Model of the vehicle\n",
        "        self.year = year        # Manufacturing year of the vehicle\n",
        "\n",
        "    def display_info(self):\n",
        "        # Method to display basic vehicle info\n",
        "        print(f\"Vehicle Info: {self.year} {self.make} {self.model}\")\n",
        "\n",
        "    def start(self):\n",
        "        # Method to simulate starting the vehicle\n",
        "        print(f\"{self.make} {self.model} is now starting...\")\n",
        "\n",
        "\n",
        "# Derived class: Car\n",
        "class Car(Vehicle):\n",
        "    def __init__(self, make, model, year, fuel_type):\n",
        "        # Calling the constructor of the base class to initialize common attributes\n",
        "        super().__init__(make, model, year)\n",
        "        self.fuel_type = fuel_type  # Additional attribute specific to Car\n",
        "\n",
        "    def display_info(self):\n",
        "        # Overriding the display_info method to include fuel type\n",
        "        super().display_info()  # Call the base class method to display basic info\n",
        "        print(f\"Fuel Type: {self.fuel_type}\")\n",
        "\n",
        "    def start(self):\n",
        "        # Overriding the start method to add custom behavior for Car\n",
        "        super().start()  # Call the base class method to start the vehicle\n",
        "        print(f\"{self.make} {self.model} is running on {self.fuel_type} fuel.\")\n",
        "\n",
        "\n",
        "# Creating an instance of the Car class\n",
        "my_car = Car(\"Toyota\", \"Corolla\", 2021, \"Gasoline\")\n",
        "\n",
        "# Calling the methods to display information and start the car\n",
        "my_car.display_info()\n",
        "my_car.start()\n"
      ],
      "metadata": {
        "colab": {
          "base_uri": "https://localhost:8080/"
        },
        "id": "8Soq_9bH_xM9",
        "outputId": "5282dc5e-822e-4477-8195-fde47fe56c3e"
      },
      "execution_count": 2,
      "outputs": [
        {
          "output_type": "stream",
          "name": "stdout",
          "text": [
            "Vehicle Info: 2021 Toyota Corolla\n",
            "Fuel Type: Gasoline\n",
            "Toyota Corolla is now starting...\n",
            "Toyota Corolla is running on Gasoline fuel.\n"
          ]
        }
      ]
    },
    {
      "cell_type": "markdown",
      "source": [
        "7. Create a base class called \"Employee\" with attributes like \"name\" and \"salary.\"\n",
        "Derive two classes, \"Manager\" and \"Developer,\" from \"Employee.\" Add an additional\n",
        "attribute called \"department\" for the \"Manager\" class and \"programming_language\"\n",
        "for the \"Developer\" class."
      ],
      "metadata": {
        "id": "Uo_KkXzD_I32"
      }
    },
    {
      "cell_type": "code",
      "source": [
        "# Base class: Employee\n",
        "class Employee:\n",
        "    def __init__(self, name, salary):\n",
        "        self.name = name          # Employee's name\n",
        "        self.salary = salary      # Employee's salary\n",
        "\n",
        "    def display_info(self):\n",
        "        # Method to display basic employee information\n",
        "        print(f\"Employee Name: {self.name}\")\n",
        "        print(f\"Salary: ${self.salary}\")\n",
        "\n",
        "# Derived class: Manager\n",
        "class Manager(Employee):\n",
        "    def __init__(self, name, salary, department):\n",
        "        # Calling the constructor of the base class to initialize common attributes\n",
        "        super().__init__(name, salary)\n",
        "        self.department = department  # Additional attribute specific to Manager\n",
        "\n",
        "    def display_info(self):\n",
        "        # Overriding display_info method to include department\n",
        "        super().display_info()  # Call the base class method to display common info\n",
        "        print(f\"Department: {self.department}\")\n",
        "\n",
        "# Derived class: Developer\n",
        "class Developer(Employee):\n",
        "    def __init__(self, name, salary, programming_language):\n",
        "        # Calling the constructor of the base class to initialize common attributes\n",
        "        super().__init__(name, salary)\n",
        "        self.programming_language = programming_language  # Additional attribute specific to Developer\n",
        "\n",
        "    def display_info(self):\n",
        "        # Overriding display_info method to include programming language\n",
        "        super().display_info()  # Call the base class method to display common info\n",
        "        print(f\"Programming Language: {self.programming_language}\")\n",
        "\n",
        "# Create instances of Manager and Developer\n",
        "manager = Manager(\"Alice\", 90000, \"HR\")\n",
        "developer = Developer(\"Bob\", 80000, \"Python\")\n",
        "\n",
        "# Display information for both employees\n",
        "print(\"Manager Info:\")\n",
        "manager.display_info()\n",
        "\n",
        "print(\"\\nDeveloper Info:\")\n",
        "developer.display_info()\n"
      ],
      "metadata": {
        "colab": {
          "base_uri": "https://localhost:8080/"
        },
        "id": "o4XbCVoV-Wmm",
        "outputId": "e634a020-9393-44a5-9aca-208c4026fe48"
      },
      "execution_count": 3,
      "outputs": [
        {
          "output_type": "stream",
          "name": "stdout",
          "text": [
            "Manager Info:\n",
            "Employee Name: Alice\n",
            "Salary: $90000\n",
            "Department: HR\n",
            "\n",
            "Developer Info:\n",
            "Employee Name: Bob\n",
            "Salary: $80000\n",
            "Programming Language: Python\n"
          ]
        }
      ]
    },
    {
      "cell_type": "markdown",
      "source": [
        "8. Design a base class called \"Shape\" with attributes like \"colour\" and \"border_width.\"\n",
        "Create derived classes, \"Rectangle\" and \"Circle,\" that inherit from \"Shape\" and add\n",
        "specific attributes like \"length\" and \"width\" for the \"Rectangle\" class and \"radius\" for\n",
        "the \"Circle\" class."
      ],
      "metadata": {
        "id": "wqokxvSCALcS"
      }
    },
    {
      "cell_type": "code",
      "source": [
        "# Base class: Shape\n",
        "class Shape:\n",
        "    def __init__(self, colour, border_width):\n",
        "        self.colour = colour           # Colour of the shape\n",
        "        self.border_width = border_width  # Border width of the shape\n",
        "\n",
        "    def display_info(self):\n",
        "        # Method to display the common attributes of the shape\n",
        "        print(f\"Colour: {self.colour}\")\n",
        "        print(f\"Border Width: {self.border_width}\")\n",
        "\n",
        "# Derived class: Rectangle\n",
        "class Rectangle(Shape):\n",
        "    def __init__(self, colour, border_width, length, width):\n",
        "        # Calling the constructor of the base class to initialize common attributes\n",
        "        super().__init__(colour, border_width)\n",
        "        self.length = length  # Specific attribute for Rectangle\n",
        "        self.width = width    # Specific attribute for Rectangle\n",
        "\n",
        "    def display_info(self):\n",
        "        # Overriding display_info method to include rectangle-specific attributes\n",
        "        super().display_info()  # Call the base class method to display common info\n",
        "        print(f\"Length: {self.length}\")\n",
        "        print(f\"Width: {self.width}\")\n",
        "\n",
        "    def area(self):\n",
        "        # Method to calculate the area of the rectangle\n",
        "        return self.length * self.width\n",
        "\n",
        "# Derived class: Circle\n",
        "class Circle(Shape):\n",
        "    def __init__(self, colour, border_width, radius):\n",
        "        # Calling the constructor of the base class to initialize common attributes\n",
        "        super().__init__(colour, border_width)\n",
        "        self.radius = radius  # Specific attribute for Circle\n",
        "\n",
        "    def display_info(self):\n",
        "        # Overriding display_info method to include circle-specific attributes\n",
        "        super().display_info()  # Call the base class method to display common info\n",
        "        print(f\"Radius: {self.radius}\")\n",
        "\n",
        "    def area(self):\n",
        "        # Method to calculate the area of the circle\n",
        "        return 3.14159 * (self.radius ** 2)\n",
        "\n",
        "# Create instances of Rectangle and Circle\n",
        "rectangle = Rectangle(\"Blue\", 2, 5, 3)\n",
        "circle = Circle(\"Red\", 1, 7)\n",
        "\n",
        "# Display information and area for both shapes\n",
        "print(\"Rectangle Info:\")\n",
        "rectangle.display_info()\n",
        "print(f\"Area of Rectangle: {rectangle.area()}\")\n",
        "\n",
        "print(\"\\nCircle Info:\")\n",
        "circle.display_info()\n",
        "print(f\"Area of Circle: {circle.area()}\")\n"
      ],
      "metadata": {
        "colab": {
          "base_uri": "https://localhost:8080/"
        },
        "id": "EsdY-pu3AEdp",
        "outputId": "2bd96357-9c6a-4e2d-f281-07c64db0dbc8"
      },
      "execution_count": 4,
      "outputs": [
        {
          "output_type": "stream",
          "name": "stdout",
          "text": [
            "Rectangle Info:\n",
            "Colour: Blue\n",
            "Border Width: 2\n",
            "Length: 5\n",
            "Width: 3\n",
            "Area of Rectangle: 15\n",
            "\n",
            "Circle Info:\n",
            "Colour: Red\n",
            "Border Width: 1\n",
            "Radius: 7\n",
            "Area of Circle: 153.93791\n"
          ]
        }
      ]
    },
    {
      "cell_type": "markdown",
      "source": [
        "9. Create a base class called \"Device\" with attributes like \"brand\" and \"model.\" Derive\n",
        "two classes, \"Phone\" and \"Tablet,\" from \"Device.\" Add specific attributes like\n",
        "\"screen_size\" for the \"Phone\" class and \"battery_capacity\" for the \"Tablet\" class."
      ],
      "metadata": {
        "id": "fvvzBniqAVjY"
      }
    },
    {
      "cell_type": "code",
      "source": [
        "# Base class: Device\n",
        "class Device:\n",
        "    def __init__(self, brand, model):\n",
        "        self.brand = brand        # Brand of the device\n",
        "        self.model = model        # Model of the device\n",
        "\n",
        "    def display_info(self):\n",
        "        # Method to display the device information\n",
        "        print(f\"Brand: {self.brand}\")\n",
        "        print(f\"Model: {self.model}\")\n",
        "\n",
        "# Derived class: Phone\n",
        "class Phone(Device):\n",
        "    def __init__(self, brand, model, screen_size):\n",
        "        # Calling the constructor of the base class to initialize common attributes\n",
        "        super().__init__(brand, model)\n",
        "        self.screen_size = screen_size  # Specific attribute for Phone\n",
        "\n",
        "    def display_info(self):\n",
        "        # Overriding display_info method to include phone-specific attributes\n",
        "        super().display_info()  # Call the base class method to display common info\n",
        "        print(f\"Screen Size: {self.screen_size} inches\")\n",
        "\n",
        "    def make_call(self):\n",
        "        # Method to simulate making a call\n",
        "        print(f\"Making a call from {self.model}...\")\n",
        "\n",
        "# Derived class: Tablet\n",
        "class Tablet(Device):\n",
        "    def __init__(self, brand, model, battery_capacity):\n",
        "        # Calling the constructor of the base class to initialize common attributes\n",
        "        super().__init__(brand, model)\n",
        "        self.battery_capacity = battery_capacity  # Specific attribute for Tablet\n",
        "\n",
        "    def display_info(self):\n",
        "        # Overriding display_info method to include tablet-specific attributes\n",
        "        super().display_info()  # Call the base class method to display common info\n",
        "        print(f\"Battery Capacity: {self.battery_capacity} mAh\")\n",
        "\n",
        "    def watch_video(self):\n",
        "        # Method to simulate watching a video\n",
        "        print(f\"Watching a video on {self.model}...\")\n",
        "\n",
        "# Create instances of Phone and Tablet\n",
        "phone = Phone(\"Samsung\", \"Galaxy S21\", 6.8)\n",
        "tablet = Tablet(\"Apple\", \"iPad Pro\", 11000)\n",
        "\n",
        "# Display information and call specific methods for both devices\n",
        "print(\"Phone Info:\")\n",
        "phone.display_info()\n",
        "phone.make_call()\n",
        "\n",
        "print(\"\\nTablet Info:\")\n",
        "tablet.display_info()\n",
        "tablet.watch_video()\n"
      ],
      "metadata": {
        "colab": {
          "base_uri": "https://localhost:8080/"
        },
        "id": "e_9YYCqxAUUz",
        "outputId": "3981bd64-5386-444c-895d-752cd955cd51"
      },
      "execution_count": 5,
      "outputs": [
        {
          "output_type": "stream",
          "name": "stdout",
          "text": [
            "Phone Info:\n",
            "Brand: Samsung\n",
            "Model: Galaxy S21\n",
            "Screen Size: 6.8 inches\n",
            "Making a call from Galaxy S21...\n",
            "\n",
            "Tablet Info:\n",
            "Brand: Apple\n",
            "Model: iPad Pro\n",
            "Battery Capacity: 11000 mAh\n",
            "Watching a video on iPad Pro...\n"
          ]
        }
      ]
    },
    {
      "cell_type": "markdown",
      "source": [
        "10. Create a base class called \"BankAccount\" with attributes like \"account_number\" and\n",
        "\"balance.\" Derive two classes, \"SavingsAccount\" and \"CheckingAccount,\" from\n",
        "\"BankAccount.\" Add specific methods like \"calculate_interest\" for the\n",
        "\"SavingsAccount\" class and \"deduct_fees\" for the \"CheckingAccount\" class."
      ],
      "metadata": {
        "id": "3o-qy1CrAfGB"
      }
    },
    {
      "cell_type": "code",
      "source": [
        "# Base class: BankAccount\n",
        "class BankAccount:\n",
        "    def __init__(self, account_number, balance):\n",
        "        self.account_number = account_number  # Account number of the bank account\n",
        "        self.balance = balance                # Current balance of the account\n",
        "\n",
        "    def deposit(self, amount):\n",
        "        # Method to deposit money into the account\n",
        "        self.balance += amount\n",
        "        print(f\"Deposited ${amount}. New balance: ${self.balance}\")\n",
        "\n",
        "    def withdraw(self, amount):\n",
        "        # Method to withdraw money from the account\n",
        "        if amount <= self.balance:\n",
        "            self.balance -= amount\n",
        "            print(f\"Withdrew ${amount}. New balance: ${self.balance}\")\n",
        "        else:\n",
        "            print(\"Insufficient funds.\")\n",
        "\n",
        "    def display_balance(self):\n",
        "        # Method to display the current balance\n",
        "        print(f\"Account Balance: ${self.balance}\")\n",
        "\n",
        "# Derived class: SavingsAccount\n",
        "class SavingsAccount(BankAccount):\n",
        "    def __init__(self, account_number, balance, interest_rate):\n",
        "        # Calling the constructor of the base class to initialize common attributes\n",
        "        super().__init__(account_number, balance)\n",
        "        self.interest_rate = interest_rate  # Interest rate for the savings account\n",
        "\n",
        "    def calculate_interest(self):\n",
        "        # Method to calculate interest on the balance\n",
        "        interest = self.balance * self.interest_rate / 100\n",
        "        self.balance += interest\n",
        "        print(f\"Interest calculated: ${interest}. New balance: ${self.balance}\")\n",
        "\n",
        "    def display_info(self):\n",
        "        # Method to display information about the savings account\n",
        "        print(f\"Savings Account - Account Number: {self.account_number}\")\n",
        "        print(f\"Balance: ${self.balance}\")\n",
        "        print(f\"Interest Rate: {self.interest_rate}%\")\n",
        "\n",
        "# Derived class: CheckingAccount\n",
        "class CheckingAccount(BankAccount):\n",
        "    def __init__(self, account_number, balance, fee):\n",
        "        # Calling the constructor of the base class to initialize common attributes\n",
        "        super().__init__(account_number, balance)\n",
        "        self.fee = fee  # Fee for the checking account\n",
        "\n",
        "    def deduct_fees(self):\n",
        "        # Method to deduct fees from the balance\n",
        "        if self.balance >= self.fee:\n",
        "            self.balance -= self.fee\n",
        "            print(f\"Fee of ${self.fee} deducted. New balance: ${self.balance}\")\n",
        "        else:\n",
        "            print(\"Insufficient funds to deduct fee.\")\n",
        "\n",
        "    def display_info(self):\n",
        "        # Method to display information about the checking account\n",
        "        print(f\"Checking Account - Account Number: {self.account_number}\")\n",
        "        print(f\"Balance: ${self.balance}\")\n",
        "        print(f\"Fee: ${self.fee}\")\n",
        "\n",
        "# Create instances of SavingsAccount and CheckingAccount\n",
        "savings_account = SavingsAccount(\"SA12345\", 1000, 5)  # 5% interest rate\n",
        "checking_account = CheckingAccount(\"CA67890\", 500, 10)  # $10 fee\n",
        "\n",
        "# Operations on SavingsAccount\n",
        "print(\"Savings Account Info:\")\n",
        "savings_account.display_info()\n",
        "savings_account.calculate_interest()\n",
        "savings_account.deposit(500)\n",
        "savings_account.withdraw(200)\n",
        "savings_account.display_balance()\n",
        "\n",
        "print(\"\\nChecking Account Info:\")\n",
        "checking_account.display_info()\n",
        "checking_account.deduct_fees()\n",
        "checking_account.deposit(100)\n",
        "checking_account.withdraw(200)\n",
        "checking_account.display_balance()\n"
      ],
      "metadata": {
        "colab": {
          "base_uri": "https://localhost:8080/"
        },
        "id": "RS0-pSkQAcze",
        "outputId": "5ba8a4e0-590d-4d55-fa86-793d2aff9e0c"
      },
      "execution_count": 6,
      "outputs": [
        {
          "output_type": "stream",
          "name": "stdout",
          "text": [
            "Savings Account Info:\n",
            "Savings Account - Account Number: SA12345\n",
            "Balance: $1000\n",
            "Interest Rate: 5%\n",
            "Interest calculated: $50.0. New balance: $1050.0\n",
            "Deposited $500. New balance: $1550.0\n",
            "Withdrew $200. New balance: $1350.0\n",
            "Account Balance: $1350.0\n",
            "\n",
            "Checking Account Info:\n",
            "Checking Account - Account Number: CA67890\n",
            "Balance: $500\n",
            "Fee: $10\n",
            "Fee of $10 deducted. New balance: $490\n",
            "Deposited $100. New balance: $590\n",
            "Withdrew $200. New balance: $390\n",
            "Account Balance: $390\n"
          ]
        }
      ]
    },
    {
      "cell_type": "code",
      "source": [],
      "metadata": {
        "id": "me5Izf6XAp2x"
      },
      "execution_count": null,
      "outputs": []
    }
  ]
}