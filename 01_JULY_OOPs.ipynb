{
  "nbformat": 4,
  "nbformat_minor": 0,
  "metadata": {
    "colab": {
      "provenance": []
    },
    "kernelspec": {
      "name": "python3",
      "display_name": "Python 3"
    },
    "language_info": {
      "name": "python"
    }
  },
  "cells": [
    {
      "cell_type": "code",
      "execution_count": null,
      "metadata": {
        "id": "6IK2Vnqu5DcT"
      },
      "outputs": [],
      "source": []
    },
    {
      "cell_type": "markdown",
      "source": [
        "What is the primary goal of Object-Oriented Programming (OOP)?"
      ],
      "metadata": {
        "id": "44KOC0pf5FPe"
      }
    },
    {
      "cell_type": "markdown",
      "source": [
        "The primary goal of Object-Oriented Programming (OOP) is to organize and structure software in a way that mirrors real-world objects. This is achieved by modeling data and behaviors into objects, which are instances of classes. The core objectives of OOP include:\n",
        "\n",
        "Encapsulation: Bundling data (attributes) and methods (functions) that operate on the data into a single unit, or object. This hides the internal workings of objects and protects data from unintended interference.\n",
        "\n",
        "Abstraction: Simplifying complex systems by exposing only essential details and hiding the unnecessary complexity. It allows focusing on what an object does, rather than how it does it.\n",
        "\n",
        "Inheritance: Allowing one class to inherit the properties and behaviors (methods) of another. This promotes code reuse and hierarchical relationships between classes.\n",
        "\n",
        "Polymorphism: Enabling objects of different classes to be treated as objects of a common superclass. It allows methods to operate on objects of various types, promoting flexibility and extensibility.\n",
        "\n",
        "In essence, OOP is designed to enhance modularity, reusability, and maintainability of code, making complex software systems easier to manage and extend over time."
      ],
      "metadata": {
        "id": "HLydnmFk5EJP"
      }
    },
    {
      "cell_type": "markdown",
      "source": [
        "What is an object in Python?"
      ],
      "metadata": {
        "id": "WEkuLzd45HFd"
      }
    },
    {
      "cell_type": "markdown",
      "source": [
        "In Python, an object is an instance of a class. It represents a specific entity that holds both data and methods that operate on that data. Objects are the fundamental building blocks in Object-Oriented Programming (OOP)."
      ],
      "metadata": {
        "id": "N4oY8deW5HMq"
      }
    },
    {
      "cell_type": "markdown",
      "source": [
        "What is a class in Python?"
      ],
      "metadata": {
        "id": "zWOQYPI75ZZ2"
      }
    },
    {
      "cell_type": "markdown",
      "source": [
        "In Python, a class is a blueprint or template for creating objects (instances). It defines a set of attributes (variables) and methods (functions) that the objects created from the class will have. A class serves as a way to organize code by grouping related data and behaviors together."
      ],
      "metadata": {
        "id": "ZQvIPk2o5b5g"
      }
    },
    {
      "cell_type": "markdown",
      "source": [
        "What are attributes and methods in a class?"
      ],
      "metadata": {
        "id": "AHs9O5MZ5b9M"
      }
    },
    {
      "cell_type": "markdown",
      "source": [
        "In the context of a class in Python, attributes and methods are key components that help define the structure and behavior of the objects (instances) created from the class.\n",
        "\n",
        "1. Attributes (or Properties):\n",
        "Attributes are variables that store the data or state of an object. Each object created from a class can have its own values for these attributes.\n",
        "\n",
        "Instance Attributes: These belong to a particular object and are typically defined in the __init__ method (constructor).\n",
        "Class Attributes: These belong to the class itself and are shared by all instances of the class."
      ],
      "metadata": {
        "id": "1xRAp6cK5cAd"
      }
    },
    {
      "cell_type": "markdown",
      "source": [
        "What is the difference between class variables and instance variables in Python?"
      ],
      "metadata": {
        "id": "qZQOBbHy5nPH"
      }
    },
    {
      "cell_type": "markdown",
      "source": [
        "In Python, class variables and instance variables are both types of variables used in classes, but they have different scopes and behaviors. Here's a detailed explanation of the differences between them:\n",
        "\n",
        "1. Instance Variables:\n",
        "Definition: Instance variables are variables that are specific to an instance (object) of a class. Each object (instance) has its own copy of these variables.\n",
        "\n",
        "2. Class Variables:\n",
        "Definition: Class variables are variables that are shared by all instances of the class. They are not specific to any one instance, and every instance of the class shares the same value for these variables."
      ],
      "metadata": {
        "id": "Jm48D3Mf5nYI"
      }
    },
    {
      "cell_type": "markdown",
      "source": [
        "What is the purpose of the self parameter in Python class methods?"
      ],
      "metadata": {
        "id": "5YbnDSlP56NE"
      }
    },
    {
      "cell_type": "markdown",
      "source": [
        "The self parameter in Python class methods is crucial for referencing the current instance of the class. It allows methods to access and modify the attributes and other methods of the object to which the method belongs."
      ],
      "metadata": {
        "id": "Hv_-M_e757oX"
      }
    },
    {
      "cell_type": "markdown",
      "source": [
        "7. For a library management system, you have to design the \"Book\" class with OOP\n",
        "principles in mind. The “Book” class will have following attributes:\n",
        "a. title: Represents the title of the book.\n",
        "b. author: Represents the author(s) of the book.\n",
        "c. isbn: Represents the ISBN (International Standard Book Number) of the book.\n",
        "d. publication_year: Represents the year of publication of the book.\n",
        "e. available_copies: Represents the number of copies available for checkout.\n",
        "The class will also include the following methods:\n",
        "a. check_out(self): Decrements the available copies by one if there are copies\n",
        "available for checkout.\n",
        "b. return_book(self): Increments the available copies by one when a book is\n",
        "returned.\n",
        "c. display_book_info(self): Displays the information about the book, including its\n",
        "attributes and the number of available copies."
      ],
      "metadata": {
        "id": "vFhGhS1857s5"
      }
    },
    {
      "cell_type": "code",
      "source": [
        "class Book:\n",
        "    # Constructor to initialize the attributes of the book\n",
        "    def __init__(self, title, author, isbn, publication_year, available_copies):\n",
        "        self.title = title  # The title of the book\n",
        "        self.author = author  # The author(s) of the book\n",
        "        self.isbn = isbn  # The ISBN of the book\n",
        "        self.publication_year = publication_year  # The publication year\n",
        "        self.available_copies = available_copies  # Number of available copies\n",
        "\n",
        "    # Method to check out the book (decrement available copies)\n",
        "    def check_out(self):\n",
        "        if self.available_copies > 0:\n",
        "            self.available_copies -= 1\n",
        "            print(f\"Book '{self.title}' checked out successfully.\")\n",
        "        else:\n",
        "            print(f\"Sorry, no copies of '{self.title}' are available for checkout.\")\n",
        "\n",
        "    # Method to return the book (increment available copies)\n",
        "    def return_book(self):\n",
        "        self.available_copies += 1\n",
        "        print(f\"Book '{self.title}' returned successfully.\")\n",
        "\n",
        "    # Method to display the book information\n",
        "    def display_book_info(self):\n",
        "        print(f\"Title: {self.title}\")\n",
        "        print(f\"Author(s): {self.author}\")\n",
        "        print(f\"ISBN: {self.isbn}\")\n",
        "        print(f\"Publication Year: {self.publication_year}\")\n",
        "        print(f\"Available Copies: {self.available_copies}\")\n",
        "        print(\"-\" * 30)  # For visual separation\n",
        "\n",
        "# Example Usage:\n",
        "# Creating a book object\n",
        "book1 = Book(\"The Great Gatsby\", \"F. Scott Fitzgerald\", \"9780743273565\", 1925, 3)\n",
        "\n",
        "# Displaying the book's information\n",
        "book1.display_book_info()\n",
        "\n",
        "# Checking out a copy of the book\n",
        "book1.check_out()\n",
        "\n",
        "# Displaying the updated book information\n",
        "book1.display_book_info()\n",
        "\n",
        "# Returning a book\n",
        "book1.return_book()\n",
        "\n",
        "# Displaying the updated book information again\n",
        "book1.display_book_info()\n"
      ],
      "metadata": {
        "colab": {
          "base_uri": "https://localhost:8080/"
        },
        "id": "y7dxe1G06QvI",
        "outputId": "e86367ba-cf5e-4db0-fd38-acb622b11654"
      },
      "execution_count": 1,
      "outputs": [
        {
          "output_type": "stream",
          "name": "stdout",
          "text": [
            "Title: The Great Gatsby\n",
            "Author(s): F. Scott Fitzgerald\n",
            "ISBN: 9780743273565\n",
            "Publication Year: 1925\n",
            "Available Copies: 3\n",
            "------------------------------\n",
            "Book 'The Great Gatsby' checked out successfully.\n",
            "Title: The Great Gatsby\n",
            "Author(s): F. Scott Fitzgerald\n",
            "ISBN: 9780743273565\n",
            "Publication Year: 1925\n",
            "Available Copies: 2\n",
            "------------------------------\n",
            "Book 'The Great Gatsby' returned successfully.\n",
            "Title: The Great Gatsby\n",
            "Author(s): F. Scott Fitzgerald\n",
            "ISBN: 9780743273565\n",
            "Publication Year: 1925\n",
            "Available Copies: 3\n",
            "------------------------------\n"
          ]
        }
      ]
    },
    {
      "cell_type": "markdown",
      "source": [
        "8. For a ticket booking system, you have to design the \"Ticket\" class with OOP\n",
        "principles in mind. The “Ticket” class should have the following attributes:\n",
        "a. ticket_id: Represents the unique identifier for the ticket.\n",
        "b. event_name: Represents the name of the event.\n",
        "c. event_date: Represents the date of the event.\n",
        "d. venue: Represents the venue of the event.\n",
        "e. seat_number: Represents the seat number associated with the ticket.\n",
        "f. price: Represents the price of the ticket.\n",
        "g. is_reserved: Represents the reservation status of the ticket.\n",
        "The class also includes the following methods:\n",
        "a. reserve_ticket(self): Marks the ticket as reserved if it is not already reserved.\n",
        "b. cancel_reservation(self): Cancels the reservation of the ticket if it is already\n",
        "reserved.\n",
        "c. display_ticket_info(self): Displays the information about the ticket, including its\n",
        "attributes and reservation status."
      ],
      "metadata": {
        "id": "xGTZuMwT57xK"
      }
    },
    {
      "cell_type": "code",
      "source": [
        "class Ticket:\n",
        "    # Constructor to initialize the ticket attributes\n",
        "    def __init__(self, ticket_id, event_name, event_date, venue, seat_number, price):\n",
        "        self.ticket_id = ticket_id  # Unique ticket identifier\n",
        "        self.event_name = event_name  # Name of the event\n",
        "        self.event_date = event_date  # Date of the event\n",
        "        self.venue = venue  # Venue of the event\n",
        "        self.seat_number = seat_number  # Seat number associated with the ticket\n",
        "        self.price = price  # Price of the ticket\n",
        "        self.is_reserved = False  # Reservation status (initially False)\n",
        "\n",
        "    # Method to reserve the ticket (mark as reserved)\n",
        "    def reserve_ticket(self):\n",
        "        if not self.is_reserved:\n",
        "            self.is_reserved = True\n",
        "            print(f\"Ticket {self.ticket_id} for '{self.event_name}' has been successfully reserved.\")\n",
        "        else:\n",
        "            print(f\"Ticket {self.ticket_id} is already reserved.\")\n",
        "\n",
        "    # Method to cancel the reservation (mark as not reserved)\n",
        "    def cancel_reservation(self):\n",
        "        if self.is_reserved:\n",
        "            self.is_reserved = False\n",
        "            print(f\"Reservation for Ticket {self.ticket_id} has been successfully canceled.\")\n",
        "        else:\n",
        "            print(f\"Ticket {self.ticket_id} is not reserved, so cannot be canceled.\")\n",
        "\n",
        "    # Method to display the ticket information\n",
        "    def display_ticket_info(self):\n",
        "        reservation_status = \"Reserved\" if self.is_reserved else \"Not Reserved\"\n",
        "        print(f\"Ticket ID: {self.ticket_id}\")\n",
        "        print(f\"Event Name: {self.event_name}\")\n",
        "        print(f\"Event Date: {self.event_date}\")\n",
        "        print(f\"Venue: {self.venue}\")\n",
        "        print(f\"Seat Number: {self.seat_number}\")\n",
        "        print(f\"Price: ${self.price}\")\n",
        "        print(f\"Reservation Status: {reservation_status}\")\n",
        "        print(\"-\" * 30)  # For visual separation\n",
        "\n",
        "# Example Usage:\n",
        "# Creating a ticket object\n",
        "ticket1 = Ticket(101, \"Concert A\", \"2025-03-25\", \"Arena X\", \"B12\", 75)\n",
        "\n",
        "# Displaying the ticket's information\n",
        "ticket1.display_ticket_info()\n",
        "\n",
        "# Reserving the ticket\n",
        "ticket1.reserve_ticket()\n",
        "\n",
        "# Displaying the updated ticket information\n",
        "ticket1.display_ticket_info()\n",
        "\n",
        "# Canceling the reservation\n",
        "ticket1.cancel_reservation()\n",
        "\n",
        "# Displaying the updated ticket information after cancellation\n",
        "ticket1.display_ticket_info()\n",
        "\n",
        "# Trying to cancel an already unreserved ticket\n",
        "ticket1.cancel_reservation()\n"
      ],
      "metadata": {
        "colab": {
          "base_uri": "https://localhost:8080/"
        },
        "id": "qdzdFc5U6XaG",
        "outputId": "95f3bdcb-d398-4b12-d495-11c2885ff4d3"
      },
      "execution_count": 2,
      "outputs": [
        {
          "output_type": "stream",
          "name": "stdout",
          "text": [
            "Ticket ID: 101\n",
            "Event Name: Concert A\n",
            "Event Date: 2025-03-25\n",
            "Venue: Arena X\n",
            "Seat Number: B12\n",
            "Price: $75\n",
            "Reservation Status: Not Reserved\n",
            "------------------------------\n",
            "Ticket 101 for 'Concert A' has been successfully reserved.\n",
            "Ticket ID: 101\n",
            "Event Name: Concert A\n",
            "Event Date: 2025-03-25\n",
            "Venue: Arena X\n",
            "Seat Number: B12\n",
            "Price: $75\n",
            "Reservation Status: Reserved\n",
            "------------------------------\n",
            "Reservation for Ticket 101 has been successfully canceled.\n",
            "Ticket ID: 101\n",
            "Event Name: Concert A\n",
            "Event Date: 2025-03-25\n",
            "Venue: Arena X\n",
            "Seat Number: B12\n",
            "Price: $75\n",
            "Reservation Status: Not Reserved\n",
            "------------------------------\n",
            "Ticket 101 is not reserved, so cannot be canceled.\n"
          ]
        }
      ]
    },
    {
      "cell_type": "markdown",
      "source": [
        "9. You are creating a shopping cart for an e-commerce website. Using OOP to model\n",
        "the \"ShoppingCart\" functionality the class should contain following attributes and\n",
        "methods:\n",
        "a. items: Represents the list of items in the shopping cart.\n",
        "The class also includes the following methods:\n",
        "\n",
        "a. add_item(self, item): Adds an item to the shopping cart by appending it to the\n",
        "list of items.\n",
        "b. remove_item(self, item): Removes an item from the shopping cart if it exists in\n",
        "the list.\n",
        "c. view_cart(self): Displays the items currently present in the shopping cart.\n",
        "d. clear_cart(self): Clears all items from the shopping cart by reassigning an\n",
        "empty list to the items attribute."
      ],
      "metadata": {
        "id": "yPOQsgh26nsS"
      }
    },
    {
      "cell_type": "code",
      "source": [
        "class ShoppingCart:\n",
        "    # Constructor to initialize the shopping cart with an empty list of items\n",
        "    def __init__(self):\n",
        "        self.items = []  # List to hold items in the shopping cart\n",
        "\n",
        "    # Method to add an item to the shopping cart\n",
        "    def add_item(self, item):\n",
        "        self.items.append(item)\n",
        "        print(f\"'{item}' has been added to your shopping cart.\")\n",
        "\n",
        "    # Method to remove an item from the shopping cart\n",
        "    def remove_item(self, item):\n",
        "        if item in self.items:\n",
        "            self.items.remove(item)\n",
        "            print(f\"'{item}' has been removed from your shopping cart.\")\n",
        "        else:\n",
        "            print(f\"'{item}' is not in the shopping cart.\")\n",
        "\n",
        "    # Method to view the items currently in the shopping cart\n",
        "    def view_cart(self):\n",
        "        if self.items:\n",
        "            print(\"Items in your shopping cart:\")\n",
        "            for item in self.items:\n",
        "                print(f\"- {item}\")\n",
        "        else:\n",
        "            print(\"Your shopping cart is empty.\")\n",
        "\n",
        "    # Method to clear all items from the shopping cart\n",
        "    def clear_cart(self):\n",
        "        self.items = []  # Reassigning an empty list\n",
        "        print(\"All items have been removed from your shopping cart.\")\n",
        "\n",
        "# Example Usage:\n",
        "# Creating a shopping cart object\n",
        "cart = ShoppingCart()\n",
        "\n",
        "# Adding items to the cart\n",
        "cart.add_item(\"Laptop\")\n",
        "cart.add_item(\"Headphones\")\n",
        "cart.add_item(\"Mouse\")\n",
        "\n",
        "# Viewing the cart's contents\n",
        "cart.view_cart()\n",
        "\n",
        "# Removing an item from the cart\n",
        "cart.remove_item(\"Headphones\")\n",
        "\n",
        "# Viewing the cart's contents after removal\n",
        "cart.view_cart()\n",
        "\n",
        "# Clearing the cart\n",
        "cart.clear_cart()\n",
        "\n",
        "# Viewing the cart's contents after clearing it\n",
        "cart.view_cart()\n"
      ],
      "metadata": {
        "colab": {
          "base_uri": "https://localhost:8080/"
        },
        "id": "k4uABn286kTZ",
        "outputId": "e37433d9-9273-443f-ba65-9e5513b38f96"
      },
      "execution_count": 3,
      "outputs": [
        {
          "output_type": "stream",
          "name": "stdout",
          "text": [
            "'Laptop' has been added to your shopping cart.\n",
            "'Headphones' has been added to your shopping cart.\n",
            "'Mouse' has been added to your shopping cart.\n",
            "Items in your shopping cart:\n",
            "- Laptop\n",
            "- Headphones\n",
            "- Mouse\n",
            "'Headphones' has been removed from your shopping cart.\n",
            "Items in your shopping cart:\n",
            "- Laptop\n",
            "- Mouse\n",
            "All items have been removed from your shopping cart.\n",
            "Your shopping cart is empty.\n"
          ]
        }
      ]
    },
    {
      "cell_type": "markdown",
      "source": [
        "10. Imagine a school management system. You have to design the \"Student\" class using\n",
        "OOP concepts.The “Student” class has the following attributes:\n",
        "a. name: Represents the name of the student.\n",
        "b. age: Represents the age of the student.\n",
        "c. grade: Represents the grade or class of the student.\n",
        "d. student_id: Represents the unique identifier for the student.\n",
        "e. attendance: Represents the attendance record of the student.\n",
        "The class should also include the following methods:\n",
        "a. update_attendance(self, date, status): Updates the attendance record of the\n",
        "student for a given date with the provided status (e.g., present or absent).\n",
        "b. get_attendance(self): Returns the attendance record of the student.\n",
        "c. get_average_attendance(self): Calculates and returns the average\n",
        "attendance percentage of the student based on their attendance record."
      ],
      "metadata": {
        "id": "6wrDiVOC6w8y"
      }
    },
    {
      "cell_type": "code",
      "source": [
        "class Student:\n",
        "    # Constructor to initialize the attributes of the student\n",
        "    def __init__(self, name, age, grade, student_id):\n",
        "        self.name = name  # Name of the student\n",
        "        self.age = age  # Age of the student\n",
        "        self.grade = grade  # Grade or class of the student\n",
        "        self.student_id = student_id  # Unique student identifier\n",
        "        self.attendance = {}  # Dictionary to store attendance records (date: status)\n",
        "\n",
        "    # Method to update the attendance record for a given date\n",
        "    def update_attendance(self, date, status):\n",
        "        self.attendance[date] = status\n",
        "        print(f\"Attendance for {self.name} on {date} has been updated to '{status}'.\")\n",
        "\n",
        "    # Method to get the student's attendance record\n",
        "    def get_attendance(self):\n",
        "        if self.attendance:\n",
        "            print(f\"Attendance record for {self.name}:\")\n",
        "            for date, status in self.attendance.items():\n",
        "                print(f\"{date}: {status}\")\n",
        "        else:\n",
        "            print(f\"{self.name} has no attendance records yet.\")\n",
        "\n",
        "    # Method to calculate and return the average attendance percentage\n",
        "    def get_average_attendance(self):\n",
        "        total_days = len(self.attendance)\n",
        "        if total_days == 0:\n",
        "            return 0  # No attendance records to calculate average\n",
        "\n",
        "        present_days = sum(1 for status in self.attendance.values() if status.lower() == 'present')\n",
        "        average_attendance = (present_days / total_days) * 100\n",
        "        return average_attendance\n",
        "\n",
        "# Example Usage:\n",
        "# Creating a student object\n",
        "student1 = Student(\"John Doe\", 15, \"10th Grade\", \"S1001\")\n",
        "\n",
        "# Updating attendance records\n",
        "student1.update_attendance(\"2025-02-01\", \"Present\")\n",
        "student1.update_attendance(\"2025-02-02\", \"Absent\")\n",
        "student1.update_attendance(\"2025-02-03\", \"Present\")\n",
        "\n",
        "# Getting attendance records\n",
        "student1.get_attendance()\n",
        "\n",
        "# Calculating and displaying average attendance\n",
        "average_attendance = student1.get_average_attendance()\n",
        "print(f\"Average Attendance for {student1.name}: {average_attendance:.2f}%\")\n"
      ],
      "metadata": {
        "colab": {
          "base_uri": "https://localhost:8080/"
        },
        "id": "oCp-y35g6uC7",
        "outputId": "d08e6bab-b583-4b84-e519-1a615ffbda4b"
      },
      "execution_count": 4,
      "outputs": [
        {
          "output_type": "stream",
          "name": "stdout",
          "text": [
            "Attendance for John Doe on 2025-02-01 has been updated to 'Present'.\n",
            "Attendance for John Doe on 2025-02-02 has been updated to 'Absent'.\n",
            "Attendance for John Doe on 2025-02-03 has been updated to 'Present'.\n",
            "Attendance record for John Doe:\n",
            "2025-02-01: Present\n",
            "2025-02-02: Absent\n",
            "2025-02-03: Present\n",
            "Average Attendance for John Doe: 66.67%\n"
          ]
        }
      ]
    },
    {
      "cell_type": "code",
      "source": [],
      "metadata": {
        "id": "4gC4sgS563f_"
      },
      "execution_count": null,
      "outputs": []
    }
  ]
}