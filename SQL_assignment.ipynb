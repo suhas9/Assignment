{
  "nbformat": 4,
  "nbformat_minor": 0,
  "metadata": {
    "colab": {
      "provenance": []
    },
    "kernelspec": {
      "name": "python3",
      "display_name": "Python 3"
    },
    "language_info": {
      "name": "python"
    }
  },
  "cells": [
    {
      "cell_type": "code",
      "execution_count": null,
      "metadata": {
        "id": "vhf3c4Vr8nB1"
      },
      "outputs": [],
      "source": []
    },
    {
      "cell_type": "markdown",
      "source": [
        "Question1:\n",
        "select ID from \"table\" where technology in (\"SQL\",\"Tableau\",\"DS\",\"Python\")"
      ],
      "metadata": {
        "id": "Y_KkR4kD9TC1"
      }
    },
    {
      "cell_type": "code",
      "source": [],
      "metadata": {
        "id": "rGm5jtjh9Tr9"
      },
      "execution_count": null,
      "outputs": []
    },
    {
      "cell_type": "markdown",
      "source": [
        "Question2:\n",
        "select a.pr_id from product_info a left join product_info_likes b on a.pr_id = b.pr_Id where b.liked_dates is null"
      ],
      "metadata": {
        "id": "IcSk0VHS9Ufi"
      }
    },
    {
      "cell_type": "code",
      "source": [],
      "metadata": {
        "id": "zW0rJ2449228"
      },
      "execution_count": null,
      "outputs": []
    }
  ]
}